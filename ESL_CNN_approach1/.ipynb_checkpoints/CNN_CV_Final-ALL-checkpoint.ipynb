{
 "cells": [
  {
   "cell_type": "markdown",
   "id": "c5745b28",
   "metadata": {},
   "source": [
    "## Yohannis Abraham\n",
    "### ID: GSR/4335/13"
   ]
  },
  {
   "cell_type": "markdown",
   "id": "3b95b35d",
   "metadata": {},
   "source": [
    "# Sign Language Recognition using CNN on MINIST Sign Language dataset¶"
   ]
  },
  {
   "cell_type": "code",
   "execution_count": 2,
   "id": "2a4ed613",
   "metadata": {},
   "outputs": [],
   "source": [
    "#imports\n",
    "import tensorflow as tf\n",
    "import numpy as np\n",
    "import pandas as pd\n",
    "import matplotlib.pyplot as plt"
   ]
  },
  {
   "cell_type": "markdown",
   "id": "c6457891",
   "metadata": {},
   "source": [
    "### Dataset\n",
    "The Ethiopian sign language (ESL) dataset we use in this project was aquired from the internet. It containes 1172 RGB images of size 1280x720. The dataset containes gesture images of only 7 ESL alphabets i.e. 'ጨ','ኘ','ከ','ለ','መ','ነ' and 'ቀ'. The size of the image in the dataset were not suted to train the deep newralnet model. As aresult, data-processing techniques were applied  and managed to extract the palm area of the signer as 64x64px grayscaled image. Furthermore, a csv dataset was generated from pre-processed images composing label(1 column) and image pixel (4096 columns) values of each image as a row. Finally, we load the csv dataset and build our CNN model."
   ]
  },
  {
   "cell_type": "code",
   "execution_count": 3,
   "id": "6bf879cc",
   "metadata": {},
   "outputs": [
    {
     "name": "stdout",
     "output_type": "stream",
     "text": [
      "0       0.529412\n",
      "1       0.525490\n",
      "2       0.525490\n",
      "3       0.529412\n",
      "4       0.529412\n",
      "          ...   \n",
      "1167    0.482353\n",
      "1168    0.490196\n",
      "1169    0.486275\n",
      "1170    0.486275\n",
      "1171    0.486275\n",
      "Name: pixel0, Length: 1172, dtype: float64\n",
      "(1172, 4097)\n",
      "['che' 'che' 'che' ... 'qe' 'qe' 'qe']\n",
      "(1172, 4096)\n"
     ]
    }
   ],
   "source": [
    "#Load the csv dataset\n",
    "train = pd.read_csv('esl_data_clean.csv')\n",
    "# extract lables\n",
    "labels = train['label'].values\n",
    "unique_value = np.array(labels)\n",
    "np.unique(unique_value)\n",
    "\n",
    "dlist = [\"label\"]\n",
    "cols =[x for x in train.columns.values.tolist() if x not in dlist]\n",
    "\n",
    "print(train['pixel0'])\n",
    "print(train.shape)\n",
    "#drop lable column from training set\n",
    "#train2= train.drop('label', axis = 1, inplace = True)\n",
    "train2 = train[cols]\n",
    "print(labels)\n",
    "#print(cols)\n",
    "print(train2.shape)"
   ]
  },
  {
   "cell_type": "code",
   "execution_count": 4,
   "id": "585d8cad",
   "metadata": {},
   "outputs": [
    {
     "name": "stdout",
     "output_type": "stream",
     "text": [
      "(1172, 4096)\n",
      "(4096,)\n"
     ]
    }
   ],
   "source": [
    "#reshape and flaten for CNN input\n",
    "images = train2.values\n",
    "print(images.shape)\n",
    "#reshape to 64x64\n",
    "images = np.array([np.reshape(i, (64, 64)) for i in images])\n",
    "#flatten 4096x1\n",
    "images = np.array([i.flatten() for i in images])\n",
    "print (images[0].shape)"
   ]
  },
  {
   "cell_type": "code",
   "execution_count": 5,
   "id": "0570f05e",
   "metadata": {},
   "outputs": [
    {
     "name": "stdout",
     "output_type": "stream",
     "text": [
      "<class 'numpy.ndarray'>\n"
     ]
    }
   ],
   "source": [
    "print(type(images))"
   ]
  },
  {
   "cell_type": "code",
   "execution_count": 6,
   "id": "f1c6e774",
   "metadata": {},
   "outputs": [
    {
     "data": {
      "text/plain": [
       "<matplotlib.image.AxesImage at 0x240077b6e50>"
      ]
     },
     "execution_count": 6,
     "metadata": {},
     "output_type": "execute_result"
    },
    {
     "data": {
      "image/png": "[encoded data removed]",
      "text/plain": [
       "<Figure size 432x288 with 1 Axes>"
      ]
     },
     "metadata": {
      "needs_background": "light"
     },
     "output_type": "display_data"
    }
   ],
   "source": [
    "plt.imshow(images[5].reshape(64,64), cmap='gray')"
   ]
  },
  {
   "cell_type": "code",
   "execution_count": 41,
   "id": "a93be8db",
   "metadata": {},
   "outputs": [
    {
     "data": {
      "text/plain": [
       "array([[0, 0, 1, ..., 0, 0, 0],\n",
       "       [0, 0, 1, ..., 0, 0, 0],\n",
       "       [0, 0, 1, ..., 0, 0, 0],\n",
       "       ...,\n",
       "       [0, 0, 0, ..., 0, 0, 1],\n",
       "       [0, 0, 0, ..., 0, 0, 1],\n",
       "       [0, 0, 0, ..., 0, 0, 1]])"
      ]
     },
     "execution_count": 41,
     "metadata": {},
     "output_type": "execute_result"
    }
   ],
   "source": [
    "#encode labels\n",
    "from sklearn.preprocessing import LabelBinarizer, LabelEncoder\n",
    "label_binrizer = LabelBinarizer()\n",
    "labl = label_binrizer.fit_transform(labels)\n",
    "#labl.shape\n",
    "labl\n",
    "# for x in labl:\n",
    "#     print(x)\n"
   ]
  },
  {
   "cell_type": "code",
   "execution_count": 9,
   "id": "959103a6",
   "metadata": {},
   "outputs": [],
   "source": [
    "#letters\n",
    "leters =['Le','Me','Che','gne','Ke','Ne','qe']"
   ]
  },
  {
   "cell_type": "code",
   "execution_count": 10,
   "id": "98d8ba03",
   "metadata": {},
   "outputs": [],
   "source": [
    "# #encode labels\n",
    "# from sklearn.preprocessing import LabelEncoder\n",
    "# # encode class values as integers\n",
    "# encoder = LabelEncoder()\n",
    "# encoder.fit(labels)\n",
    "# encoded_Y = encoder.transform(labels)\n",
    "# for x in encoded_Y"
   ]
  },
  {
   "cell_type": "code",
   "execution_count": 11,
   "id": "fe407a8e",
   "metadata": {},
   "outputs": [
    {
     "name": "stdout",
     "output_type": "stream",
     "text": [
      "(937, 4096)\n",
      "(235, 7)\n"
     ]
    }
   ],
   "source": [
    "#Split the dataset to training and test sets\n",
    "from sklearn.model_selection import train_test_split\n",
    "\n",
    "x_train, x_test, y_train, y_test = train_test_split(images, labl, test_size = 0.2, random_state = 84)\n",
    "print(x_train.shape)\n",
    "print(y_test.shape)"
   ]
  },
  {
   "cell_type": "code",
   "execution_count": 12,
   "id": "9b05148e",
   "metadata": {},
   "outputs": [
    {
     "data": {
      "text/plain": [
       "<matplotlib.image.AxesImage at 0x2400ac41370>"
      ]
     },
     "execution_count": 12,
     "metadata": {},
     "output_type": "execute_result"
    },
    {
     "data": {
      "image/png": "[encoded data removed]",
      "text/plain": [
       "<Figure size 432x288 with 1 Axes>"
      ]
     },
     "metadata": {
      "needs_background": "light"
     },
     "output_type": "display_data"
    }
   ],
   "source": [
    "plt.imshow(x_test[5].reshape(64,64))"
   ]
  },
  {
   "cell_type": "code",
   "execution_count": 13,
   "id": "fd6bace3",
   "metadata": {},
   "outputs": [
    {
     "data": {
      "text/plain": [
       "(937, 4096)"
      ]
     },
     "execution_count": 13,
     "metadata": {},
     "output_type": "execute_result"
    }
   ],
   "source": [
    "x_train.shape"
   ]
  },
  {
   "cell_type": "code",
   "execution_count": 14,
   "id": "c5840a50",
   "metadata": {},
   "outputs": [
    {
     "data": {
      "text/plain": [
       "(235, 4096)"
      ]
     },
     "execution_count": 14,
     "metadata": {},
     "output_type": "execute_result"
    }
   ],
   "source": [
    "x_test.shape\n",
    "#print(x_test[0])"
   ]
  },
  {
   "cell_type": "code",
   "execution_count": 15,
   "id": "684824f9",
   "metadata": {},
   "outputs": [
    {
     "name": "stdout",
     "output_type": "stream",
     "text": [
      "937\n",
      "(235, 64, 64, 1)\n"
     ]
    }
   ],
   "source": [
    "#adding bias neuron\n",
    "x_train = x_train.reshape(x_train.shape[0], 64, 64, 1)\n",
    "x_test = x_test.reshape(x_test.shape[0], 64, 64, 1)\n",
    "\n",
    "print(x_train.shape[0])\n",
    "print(x_test.shape)\n",
    "#print(x_test[0])"
   ]
  },
  {
   "cell_type": "code",
   "execution_count": 16,
   "id": "eed3c14e",
   "metadata": {},
   "outputs": [
    {
     "data": {
      "text/plain": [
       "<matplotlib.image.AxesImage at 0x2400ac8cb80>"
      ]
     },
     "execution_count": 16,
     "metadata": {},
     "output_type": "execute_result"
    },
    {
     "data": {
      "image/png": "[encoded data removed]",
      "text/plain": [
       "<Figure size 432x288 with 1 Axes>"
      ]
     },
     "metadata": {
      "needs_background": "light"
     },
     "output_type": "display_data"
    }
   ],
   "source": [
    "plt.imshow(x_train[5].reshape(64,64))"
   ]
  },
  {
   "cell_type": "markdown",
   "id": "6850840f",
   "metadata": {},
   "source": [
    "## CNN Model Building and Training\n",
    "The **convolutional neural network (CNN)** is a class of deep learning neural networks and it becomes the state-of-the-art computer vision technique. They are widly used in computer vision tasks such as image classification, object detection, image recognition, etc. Here our main problem is classification/recognition of sign language MNIST images to their respective classes using deep learning approaches specifically CNN. The basic steps used in this project is as follows.\n",
    "* Load ESL datset (the generated csv from ESL images) and split them for train-test (80:20% ratio)\n",
    "* Extract class lables from the training set and encode them (LabelBinarizer is used)\n",
    "* Flatten the input image dimensions to 1D (width pixels x height pixels)\n",
    "* Build a model architecture (Sequential) with Dense layers\n",
    "* Train the model and evaluate it and save the model for later use\n",
    "* Load the trained model and make prediction from signs extacted from live camera feed (Here we used Open CV to extract ROI region from camera feed)"
   ]
  },
  {
   "cell_type": "code",
   "execution_count": 17,
   "id": "e09d5715",
   "metadata": {
    "scrolled": true
   },
   "outputs": [
    {
     "name": "stdout",
     "output_type": "stream",
     "text": [
      "Epoch 1/30\n",
      "4/4 [==============================] - 3s 560ms/step - loss: 1.8750 - accuracy: 0.1644 - val_loss: 1.7779 - val_accuracy: 0.5234\n",
      "Epoch 2/30\n",
      "4/4 [==============================] - 2s 526ms/step - loss: 1.7740 - accuracy: 0.3810 - val_loss: 1.6081 - val_accuracy: 0.7745\n",
      "Epoch 3/30\n",
      "4/4 [==============================] - 2s 534ms/step - loss: 1.5573 - accuracy: 0.5848 - val_loss: 1.2941 - val_accuracy: 0.8000\n",
      "Epoch 4/30\n",
      "4/4 [==============================] - 2s 526ms/step - loss: 1.2133 - accuracy: 0.7343 - val_loss: 0.8907 - val_accuracy: 0.8043\n",
      "Epoch 5/30\n",
      "4/4 [==============================] - 2s 530ms/step - loss: 0.8474 - accuracy: 0.7727 - val_loss: 0.5776 - val_accuracy: 0.8298\n",
      "Epoch 6/30\n",
      "4/4 [==============================] - 2s 551ms/step - loss: 0.5737 - accuracy: 0.8356 - val_loss: 0.3563 - val_accuracy: 0.9149\n",
      "Epoch 7/30\n",
      "4/4 [==============================] - 3s 695ms/step - loss: 0.3981 - accuracy: 0.8794 - val_loss: 0.2728 - val_accuracy: 0.9319\n",
      "Epoch 8/30\n",
      "4/4 [==============================] - 3s 718ms/step - loss: 0.2820 - accuracy: 0.9264 - val_loss: 0.1945 - val_accuracy: 0.9404\n",
      "Epoch 9/30\n",
      "4/4 [==============================] - 3s 700ms/step - loss: 0.2288 - accuracy: 0.9285 - val_loss: 0.1437 - val_accuracy: 0.9489\n",
      "Epoch 10/30\n",
      "4/4 [==============================] - 3s 709ms/step - loss: 0.1652 - accuracy: 0.9498 - val_loss: 0.0902 - val_accuracy: 0.9574\n",
      "Epoch 11/30\n",
      "4/4 [==============================] - 3s 713ms/step - loss: 0.1137 - accuracy: 0.9648 - val_loss: 0.0676 - val_accuracy: 0.9702\n",
      "Epoch 12/30\n",
      "4/4 [==============================] - 3s 687ms/step - loss: 0.0906 - accuracy: 0.9819 - val_loss: 0.0382 - val_accuracy: 0.9957\n",
      "Epoch 13/30\n",
      "4/4 [==============================] - 3s 695ms/step - loss: 0.0633 - accuracy: 0.9893 - val_loss: 0.0379 - val_accuracy: 0.9872\n",
      "Epoch 14/30\n",
      "4/4 [==============================] - 3s 764ms/step - loss: 0.0504 - accuracy: 0.9893 - val_loss: 0.0156 - val_accuracy: 1.0000\n",
      "Epoch 15/30\n",
      "4/4 [==============================] - 3s 790ms/step - loss: 0.0379 - accuracy: 0.9893 - val_loss: 0.0118 - val_accuracy: 1.0000\n",
      "Epoch 16/30\n",
      "4/4 [==============================] - 3s 732ms/step - loss: 0.0285 - accuracy: 0.9947 - val_loss: 0.0157 - val_accuracy: 0.9957\n",
      "Epoch 17/30\n",
      "4/4 [==============================] - 3s 725ms/step - loss: 0.0236 - accuracy: 0.9968 - val_loss: 0.0061 - val_accuracy: 1.0000\n",
      "Epoch 18/30\n",
      "4/4 [==============================] - 3s 748ms/step - loss: 0.0192 - accuracy: 0.9989 - val_loss: 0.0059 - val_accuracy: 1.0000\n",
      "Epoch 19/30\n",
      "4/4 [==============================] - 3s 750ms/step - loss: 0.0169 - accuracy: 0.9979 - val_loss: 0.0040 - val_accuracy: 1.0000\n",
      "Epoch 20/30\n",
      "4/4 [==============================] - 3s 738ms/step - loss: 0.0129 - accuracy: 0.9989 - val_loss: 0.0055 - val_accuracy: 1.0000\n",
      "Epoch 21/30\n",
      "4/4 [==============================] - 3s 716ms/step - loss: 0.0128 - accuracy: 0.9989 - val_loss: 0.0027 - val_accuracy: 1.0000\n",
      "Epoch 22/30\n",
      "4/4 [==============================] - 3s 759ms/step - loss: 0.0097 - accuracy: 0.9989 - val_loss: 0.0018 - val_accuracy: 1.0000\n",
      "Epoch 23/30\n",
      "4/4 [==============================] - 3s 762ms/step - loss: 0.0101 - accuracy: 1.0000 - val_loss: 0.0020 - val_accuracy: 1.0000\n",
      "Epoch 24/30\n",
      "4/4 [==============================] - 3s 794ms/step - loss: 0.0086 - accuracy: 1.0000 - val_loss: 0.0029 - val_accuracy: 1.0000\n",
      "Epoch 25/30\n",
      "4/4 [==============================] - 3s 788ms/step - loss: 0.0104 - accuracy: 0.9968 - val_loss: 0.0015 - val_accuracy: 1.0000\n",
      "Epoch 26/30\n",
      "4/4 [==============================] - 3s 785ms/step - loss: 0.0073 - accuracy: 1.0000 - val_loss: 0.0010 - val_accuracy: 1.0000\n",
      "Epoch 27/30\n",
      "4/4 [==============================] - 3s 776ms/step - loss: 0.0063 - accuracy: 1.0000 - val_loss: 0.0014 - val_accuracy: 1.0000\n",
      "Epoch 28/30\n",
      "4/4 [==============================] - 3s 792ms/step - loss: 0.0053 - accuracy: 0.9989 - val_loss: 0.0013 - val_accuracy: 1.0000\n",
      "Epoch 29/30\n",
      "4/4 [==============================] - 3s 711ms/step - loss: 0.0053 - accuracy: 0.9989 - val_loss: 0.0013 - val_accuracy: 1.0000\n",
      "Epoch 30/30\n",
      "4/4 [==============================] - 3s 712ms/step - loss: 0.0064 - accuracy: 0.9989 - val_loss: 0.0010 - val_accuracy: 1.0000\n",
      "Training time: 84.95450377464294s\n"
     ]
    }
   ],
   "source": [
    "#CNN model building\n",
    "import keras\n",
    "from keras.models import Sequential\n",
    "from keras.layers import Dense, Conv2D, MaxPooling2D, Flatten, Dropout\n",
    "import time\n",
    "\n",
    "#parameters\n",
    "batch_size = 256\n",
    "#J and Z require movement 26-2 =24\n",
    "num_classes = 7\n",
    "epochs = 30\n",
    "\n",
    "model = Sequential()\n",
    "model.add(Conv2D(64, kernel_size=(3,3), activation = 'relu', input_shape=(64, 64 ,1) ))\n",
    "model.add(MaxPooling2D(pool_size = (2, 2)))\n",
    "\n",
    "model.add(Conv2D(64, kernel_size = (3, 3), activation = 'relu'))\n",
    "model.add(MaxPooling2D(pool_size = (2, 2)))\n",
    "\n",
    "# model.add(Conv2D(64, kernel_size = (3, 3), activation = 'relu'))\n",
    "# model.add(MaxPooling2D(pool_size = (2, 2)))\n",
    "\n",
    "model.add(Flatten())\n",
    "model.add(Dense(128, activation = 'relu'))\n",
    "model.add(Dropout(0.30))\n",
    "\n",
    "model.add(Dense(num_classes, activation = 'softmax'))\n",
    "\n",
    "#compile the model\n",
    "model.compile(loss = keras.losses.categorical_crossentropy, optimizer='adam', metrics=['accuracy'])\n",
    "\n",
    "#fit\n",
    "start = time.time()\n",
    "history = model.fit(x_train, y_train, validation_data = (x_test, y_test), epochs=epochs, batch_size=batch_size)\n",
    "stop = time.time()\n",
    "print(f\"Training time: {stop - start}s\")\n",
    "\n",
    "#save the model\n",
    "model.save('ESL_CNN_Model.h5')"
   ]
  },
  {
   "cell_type": "code",
   "execution_count": 81,
   "id": "de246e91",
   "metadata": {},
   "outputs": [],
   "source": []
  },
  {
   "cell_type": "code",
   "execution_count": 31,
   "id": "11aa9ebb",
   "metadata": {},
   "outputs": [
    {
     "name": "stdout",
     "output_type": "stream",
     "text": [
      "dict_keys(['loss', 'accuracy', 'val_loss', 'val_accuracy'])\n"
     ]
    },
    {
     "data": {
      "image/png": "[encoded data removed]",
      "text/plain": [
       "<Figure size 560x420 with 1 Axes>"
      ]
     },
     "metadata": {
      "needs_background": "light"
     },
     "output_type": "display_data"
    },
    {
     "data": {
      "image/png": "[encoded data removed]",
      "text/plain": [
       "<Figure size 560x420 with 1 Axes>"
      ]
     },
     "metadata": {
      "needs_background": "light"
     },
     "output_type": "display_data"
    }
   ],
   "source": [
    "print(history.history.keys())\n",
    "# plot high resolution graph\n",
    "#plt.figure(figsize=(10, 6),dpi=200)\n",
    "\n",
    "#  \"Accuracy\"\n",
    "plt.figure(figsize=(4,3) ,dpi= 140)\n",
    "plt.plot(history.history['accuracy'])\n",
    "plt.plot(history.history['val_accuracy'])\n",
    "plt.title('Model Accuracy')\n",
    "plt.ylabel('accuracy')\n",
    "plt.xlabel('epoch')\n",
    "plt.legend(['train', 'validation'], loc='center right')\n",
    "plt.show()\n",
    "\n",
    "# \"Loss\"\n",
    "plt.figure(figsize=(4,3) ,dpi= 140)\n",
    "plt.plot(history.history['loss'])\n",
    "plt.plot(history.history['val_loss'])\n",
    "plt.title('Model Loss')\n",
    "plt.ylabel('loss')\n",
    "plt.xlabel('epoch')\n",
    "plt.legend(['train', 'validation'], loc='upper right')\n",
    "plt.show()"
   ]
  },
  {
   "cell_type": "code",
   "execution_count": 32,
   "id": "7038c91e",
   "metadata": {},
   "outputs": [
    {
     "data": {
      "text/plain": [
       "1.0"
      ]
     },
     "execution_count": 32,
     "metadata": {},
     "output_type": "execute_result"
    }
   ],
   "source": [
    "#Predecting with test images\n",
    "from sklearn.metrics import accuracy_score\n",
    "y_pred = model.predict(x_test)\n",
    "accuracy_score(y_test, y_pred.round())"
   ]
  },
  {
   "cell_type": "code",
   "execution_count": 47,
   "id": "a6605486",
   "metadata": {},
   "outputs": [],
   "source": [
    "# # Retrieve the labels\n",
    "# print(labels[0])\n",
    "# l = label_binrizer.inverse_transform(labels)\n",
    "# l"
   ]
  },
  {
   "cell_type": "code",
   "execution_count": 48,
   "id": "66d66781",
   "metadata": {},
   "outputs": [],
   "source": [
    "#letters\n",
    "leters =['Le','Me','Che','gne','Ke','Ne','qe']"
   ]
  },
  {
   "cell_type": "code",
   "execution_count": 52,
   "id": "ab318c75",
   "metadata": {},
   "outputs": [
    {
     "data": {
      "text/plain": [
       "<matplotlib.image.AxesImage at 0x1cdd772c580>"
      ]
     },
     "execution_count": 52,
     "metadata": {},
     "output_type": "execute_result"
    },
    {
     "data": {
      "image/png": "[encoded data removed]",
      "text/plain": [
       "<Figure size 432x288 with 1 Axes>"
      ]
     },
     "metadata": {
      "needs_background": "light"
     },
     "output_type": "display_data"
    }
   ],
   "source": [
    "plt.imshow(x_test[2].reshape(64,64))"
   ]
  },
  {
   "cell_type": "code",
   "execution_count": 53,
   "id": "72ca42a2",
   "metadata": {},
   "outputs": [
    {
     "name": "stdout",
     "output_type": "stream",
     "text": [
      "[[2.2388154e-04 9.9977559e-01 3.0705351e-07 1.3639146e-07 1.2713349e-07\n",
      "  2.9186331e-09 3.3446212e-09]]\n"
     ]
    },
    {
     "data": {
      "text/plain": [
       "1"
      ]
     },
     "execution_count": 53,
     "metadata": {},
     "output_type": "execute_result"
    }
   ],
   "source": [
    "#x_test[45]\n",
    "xx=x_test[2]\n",
    "i = np.reshape(xx,(1,xx.shape[0],xx.shape[1],1))\n",
    "xx.shape\n",
    "i.shape\n",
    "y_pred = model.predict(i)\n",
    "print(y_pred)\n",
    "np.argmax(y_pred)"
   ]
  },
  {
   "cell_type": "code",
   "execution_count": 49,
   "id": "a0c2743e",
   "metadata": {},
   "outputs": [
    {
     "name": "stdout",
     "output_type": "stream",
     "text": [
      "[[6.2149815e-20 9.4885395e-21 6.4829751e-21 3.6456913e-20 9.7939764e-25\n",
      "  5.0889274e-16 5.6575349e-19 5.0020057e-14 2.1756921e-09 3.7917645e-13\n",
      "  1.1419943e-19 4.8702161e-21 1.0821340e-20 7.6342361e-14 1.0000000e+00\n",
      "  3.2985064e-08 1.0274754e-20 3.9773700e-19 8.4543910e-14 7.0873729e-19\n",
      "  2.2033306e-23 2.7408629e-25 2.5548603e-08 2.8277184e-16]]\n"
     ]
    }
   ],
   "source": [
    "print(y_pred)"
   ]
  },
  {
   "cell_type": "code",
   "execution_count": 50,
   "id": "22e278f6",
   "metadata": {},
   "outputs": [
    {
     "data": {
      "text/plain": [
       "14"
      ]
     },
     "execution_count": 50,
     "metadata": {},
     "output_type": "execute_result"
    }
   ],
   "source": [
    "np.argmax(y_pred)"
   ]
  },
  {
   "cell_type": "code",
   "execution_count": 54,
   "id": "1a62f0fc",
   "metadata": {},
   "outputs": [
    {
     "name": "stdout",
     "output_type": "stream",
     "text": [
      "The predicted letter is: Me\n"
     ]
    }
   ],
   "source": [
    "print('The predicted letter is: {}'.format(leters[np.argmax(y_pred)]))"
   ]
  },
  {
   "cell_type": "markdown",
   "id": "361e042d",
   "metadata": {},
   "source": [
    "## Realtime prediction using frame captured from webcam"
   ]
  },
  {
   "cell_type": "markdown",
   "id": "82789555",
   "metadata": {},
   "source": [
    "Here, we use Open CV and create a bounding box for extracting the **ROI** regions from a live webcam feed. Also we load the previously saved trained CNN model using keras.models.load_model and feed the image (Grayscaled) of the ROI consisting of the hand as an input to the model for prediction."
   ]
  },
  {
   "cell_type": "code",
   "execution_count": 18,
   "id": "36c99c48",
   "metadata": {},
   "outputs": [],
   "source": [
    "#imports\n",
    "import cv2\n",
    "import keras\n",
    "import numpy as np\n",
    "from keras.preprocessing.image import ImageDataGenerator\n",
    "#audio\n",
    "import playsound"
   ]
  },
  {
   "cell_type": "markdown",
   "id": "1858ce95",
   "metadata": {},
   "source": [
    "For classifying an input image, first we store all the class labels of our dataset in a list (list of letters). Then we load our previously trained model using keras and also we get a specific region from our camera feed using openCV ROI. We convert the ROI image to grayscale and feed it to the model for classification. We use np.argmax() to get the index of the nuron with the maximum weight. Finally, extract the recognized letter from the list of leters using the index  we got from np.argmax."
   ]
  },
  {
   "cell_type": "code",
   "execution_count": 42,
   "id": "3bc3912c",
   "metadata": {},
   "outputs": [],
   "source": [
    "#extract hand from camera feed and classify using the pre trained model\n",
    "\n",
    "#load the trained model\n",
    "model = keras.models.load_model(r\"NEW_CNN_Model.h5\")\n",
    "#letters\n",
    "leters =['Le','Me','Che','gne','Ke','Ne','qe']\n",
    "#letters\n",
    "#leters =['ለ','መ','ጨ','ኘ','ከ','ነ','ቀ']\n",
    "\n",
    "#audio files\n",
    "file_name =['le.WMA','me.WMA','che.WMA','gne.WMA','ke.WMA','ne.WMA','qe.WMA']\n",
    "        \n",
    "    \n",
    "# get the reference to the webcam\n",
    "camera = cv2.VideoCapture(0)\n",
    "\n",
    "# region of interest (ROI) coordinates\n",
    "# top, right, bottom, left = 100, 500, 300, 700\n",
    "\n",
    "# region of interest (ROI) coordinates\n",
    "top, right, bottom, left = 100, 100, 300, 300\n",
    "\n",
    "# keep looping, until interrupted\n",
    "while(True):\n",
    "    # get the current frame\n",
    "    (grabbed, frame) = camera.read()\n",
    "\n",
    "    # resize the frame\n",
    "    frame = cv2.resize(frame, (700, 460))\n",
    "\n",
    "    # flip the frame so that it is not the mirror view\n",
    "    frame = cv2.flip(frame, 1)\n",
    "\n",
    "    # clone the frame\n",
    "    clone = frame.copy()\n",
    "\n",
    "    # get the height and width of the frame\n",
    "    (height, width) = frame.shape[:2]\n",
    "\n",
    "    # get the ROI\n",
    "    roi = frame[top:bottom, right:left]\n",
    "    # convert the roi to grayscale\n",
    "    gray = cv2.cvtColor(roi, cv2.COLOR_BGR2GRAY)\n",
    "    norm_img = gray/255\n",
    "\n",
    "    # check whether hand region is segmented\n",
    "    if gray is not None:\n",
    "            \n",
    "        # draw hand region and display the frame\n",
    "        cv2.imshow(\"Hand region\", gray)\n",
    "        sign = cv2.resize(norm_img, (64, 64))\n",
    "        sign = np.reshape(sign,(1,sign.shape[0],sign.shape[1],1))\n",
    "                \n",
    "        #print (sign.shape)\n",
    "        pred = model.predict(sign)\n",
    "        cv2.putText(clone, 'Pridicted :'+leters[np.argmax(pred)],(90, 90), cv2.FONT_HERSHEY_SIMPLEX, 0.7, (255,0,0), 2)\n",
    "        #play audio of the recognized sign\n",
    "        #playsound.playsound('voice/'+ file_name[np.argmax(pred)], True)\n",
    "\n",
    "    # draw the segmented hand\n",
    "    cv2.rectangle(clone, (left, top), (right, bottom), (0,255,0), 2)\n",
    "\n",
    "    # display the frame with segmented hand\n",
    "    cv2.imshow(\"Video Feed\", clone)\n",
    "\n",
    "    # observe the keypress by the user\n",
    "    keypress = cv2.waitKey(1) & 0xFF\n",
    "\n",
    "    # if the user pressed \"q\", then stop looping\n",
    "    if keypress == ord(\"q\"):\n",
    "        break\n",
    "\n",
    "# free up memory\n",
    "camera.release()\n",
    "cv2.destroyAllWindows()"
   ]
  },
  {
   "cell_type": "code",
   "execution_count": null,
   "id": "9b9242cd",
   "metadata": {},
   "outputs": [],
   "source": []
  }
 ],
 "metadata": {
  "kernelspec": {
   "display_name": "Python 3",
   "language": "python",
   "name": "python3"
  },
  "language_info": {
   "codemirror_mode": {
    "name": "ipython",
    "version": 3
   },
   "file_extension": ".py",
   "mimetype": "text/x-python",
   "name": "python",
   "nbconvert_exporter": "python",
   "pygments_lexer": "ipython3",
   "version": "3.8.8"
  }
 },
 "nbformat": 4,
 "nbformat_minor": 5
}
